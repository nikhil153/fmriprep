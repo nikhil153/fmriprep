{
 "cells": [
  {
   "cell_type": "code",
   "execution_count": 16,
   "metadata": {},
   "outputs": [],
   "source": [
    "import numpy as np\n",
    "import pandas as pd\n",
    "from ipywidgets import interact, interactive, fixed, interact_manual\n",
    "import ipywidgets as widgets\n",
    "from ipywidgets import FloatSlider, Layout\n",
    "from IPython.display import display"
   ]
  },
  {
   "cell_type": "markdown",
   "metadata": {},
   "source": [
    "## Paths"
   ]
  },
  {
   "cell_type": "code",
   "execution_count": 4,
   "metadata": {},
   "outputs": [],
   "source": [
    "# CodeCarbon example\n",
    "CC_emissions_csv = \"/home/nikhil/projects/green_comp_neuro/codecarbon/examples/emissions.csv\"\n",
    "CC_cloud_csv = \"/home/nikhil/projects/green_comp_neuro/codecarbon/codecarbon/data/cloud/impact.csv\"\n",
    "\n",
    "project_dir = \"/home/nikhil/projects/green_comp_neuro/fmriprep/\"\n",
    "template_emissions_csv = f\"{project_dir}scripts/emissions.csv\"\n",
    "custom_emissions_csv = f\"{project_dir}scripts/demo_emissions.csv\""
   ]
  },
  {
   "cell_type": "markdown",
   "metadata": {},
   "source": [
    "## Read data"
   ]
  },
  {
   "cell_type": "code",
   "execution_count": 5,
   "metadata": {},
   "outputs": [
    {
     "name": "stdout",
     "output_type": "stream",
     "text": [
      "Number of countries with available data: 23\n"
     ]
    }
   ],
   "source": [
    "## Known cloud regions\n",
    "CC_cloud_df = pd.read_csv(CC_cloud_csv)\n",
    "cloud_countries = CC_cloud_df[\"countryName\"].unique()\n",
    "print(f\"Number of countries with available data: {len(cloud_countries)}\")\n",
    "\n",
    "## Sample fmriprep run\n",
    "template_emissions_df = pd.read_csv(template_emissions_csv)\n"
   ]
  },
  {
   "cell_type": "markdown",
   "metadata": {},
   "source": [
    "## Interactive"
   ]
  },
  {
   "cell_type": "code",
   "execution_count": 32,
   "metadata": {},
   "outputs": [
    {
     "data": {
      "application/vnd.jupyter.widget-view+json": {
       "model_id": "d01127db45db484aabf9b0ed00a3094e",
       "version_major": 2,
       "version_minor": 0
      },
      "text/plain": [
       "Label(value='### fMRIPrep Carbon Calculator ###')"
      ]
     },
     "metadata": {},
     "output_type": "display_data"
    },
    {
     "data": {
      "application/vnd.jupyter.widget-view+json": {
       "model_id": "7e6b3596b7404b31858bbd845caff511",
       "version_major": 2,
       "version_minor": 0
      },
      "text/plain": [
       "VBox(children=(Dropdown(description='Select your country', index=14, options=('Taiwan', 'China', 'Japan', 'Kor…"
      ]
     },
     "metadata": {},
     "output_type": "display_data"
    },
    {
     "data": {
      "application/vnd.jupyter.widget-view+json": {
       "model_id": "de90a56c70774d1a96c9f3320f129ea7",
       "version_major": 2,
       "version_minor": 0
      },
      "text/plain": [
       "Button(button_style='info', description='Calculate', icon='check', style=ButtonStyle())"
      ]
     },
     "metadata": {},
     "output_type": "display_data"
    },
    {
     "data": {
      "application/vnd.jupyter.widget-view+json": {
       "model_id": "174756d5cd1a48c3868e809eb62ed99a",
       "version_major": 2,
       "version_minor": 0
      },
      "text/plain": [
       "Output()"
      ]
     },
     "metadata": {},
     "output_type": "display_data"
    }
   ],
   "source": [
    "def f(x,y,z):\n",
    "    print(x,y,z)\n",
    "    return x,y,z\n",
    "\n",
    "def update_dropdown_2(*args):\n",
    "    dropdown_2.options = CC_cloud_df[(CC_cloud_df[\"countryName\"]==dropdown_1.value)][\"region\"].values\n",
    "\n",
    "\n",
    "# Widgets\n",
    "style = {'description_width': 'initial'}\n",
    "\n",
    "title_label = widgets.Label( value='### fMRIPrep Carbon Calculator ###')\n",
    "\n",
    "dropdown_1 = widgets.Dropdown(options=cloud_countries, value=\"Canada\",\n",
    "                                description=\"Select your country\",style=style)\n",
    "dropdown_2 = widgets.Dropdown(options=[\"Select country first\"],value=\"Select country first\", \n",
    "                                description=\"Select your cloud/HPC region\",style=style)\n",
    "\n",
    "dropdown_1.observe(update_dropdown_2, 'value')\n",
    "\n",
    "sample_size_slider = FloatSlider(min=0, max=1000, step=100, description=\"Select number of scans\",style=style)\n",
    "\n",
    "\n",
    "\n",
    "ui = widgets.VBox([dropdown_1, dropdown_2, sample_size_slider])\n",
    "config_out = widgets.interactive_output(f, {'x':dropdown_1, 'y':dropdown_2, 'z':sample_size_slider});\n",
    "\n",
    "# Add a button \n",
    "calculate_button = widgets.Button(\n",
    "    description='Calculate',\n",
    "    button_style='info', # 'success', 'info', 'warning', 'danger' or ''\n",
    "    icon='check' # (FontAwesome names without the `fa-` prefix)\n",
    ")\n",
    "output = widgets.Output()\n",
    "\n",
    "@output.capture()\n",
    "def on_button_clicked(b):\n",
    "    # print(\"Button clicked.\")    \n",
    "    config = config_out.outputs[0][\"text\"]\n",
    "    country_name, cloud_region, n_scans = config.split(\" \")\n",
    "    n_scans = int(float(str.strip(n_scans)))\n",
    "\n",
    "    on_cloud = \"Y\"\n",
    "    project_name = f\"fMRIPrep proc, n_scans ={n_scans}\"\n",
    "\n",
    "    print(f\"Country: {country_name}, cloud_region: {cloud_region}, n_scans = {n_scans}\")\n",
    "\n",
    "    country_code = CC_cloud_df[(CC_cloud_df[\"countryName\"]==country_name)][\"countryIsoCode\"].values[0]\n",
    "    cloud_provider = CC_cloud_df[(CC_cloud_df[\"countryName\"]==country_name) & \n",
    "                                (CC_cloud_df[\"region\"]==cloud_region)][\"provider\"].values[0]\n",
    "\n",
    "    locale_cols = [\"project_name\",\"country_iso_code\",\"country_name\",\"region\",\"cloud_provider\",\"cloud_region\",\"on_cloud\"]\n",
    "\n",
    "    demo_df = template_emissions_df.copy()\n",
    "\n",
    "    demo_df.loc[0,locale_cols] = [project_name, country_code,country_name,cloud_region,cloud_provider,cloud_region,on_cloud]\n",
    "    multiple_runs_emissions = np.tile(demo_df.values,(n_scans,1))\n",
    "\n",
    "    demo_df = pd.DataFrame(columns=template_emissions_df.columns, data=multiple_runs_emissions)\n",
    "\n",
    "    demo_df.to_csv(custom_emissions_csv,index=False)\n",
    "    print(f\"emissions csv saved at: {custom_emissions_csv}\")\n",
    "\n",
    "calculate_button.on_click(on_button_clicked)\n",
    "\n",
    "display(title_label)\n",
    "display(ui)\n",
    "display(calculate_button, output)"
   ]
  },
  {
   "cell_type": "code",
   "execution_count": 15,
   "metadata": {},
   "outputs": [
    {
     "name": "stdout",
     "output_type": "stream",
     "text": [
      "Dash is running on http://127.0.0.1:8050/\n",
      "\n",
      " * Serving Flask app 'carbonboard' (lazy loading)\n",
      " * Environment: production\n",
      "\u001b[31m   WARNING: This is a development server. Do not use it in a production deployment.\u001b[0m\n",
      "\u001b[2m   Use a production WSGI server instead.\u001b[0m\n",
      " * Debug mode: off\n",
      " * Running on http://127.0.0.1:8050/ (Press CTRL+C to quit)\n",
      "127.0.0.1 - - [17/Jun/2022 17:41:50] \"GET / HTTP/1.1\" 200 -\n",
      "127.0.0.1 - - [17/Jun/2022 17:41:51] \"GET /_dash-layout HTTP/1.1\" 200 -\n",
      "127.0.0.1 - - [17/Jun/2022 17:41:51] \"GET /_dash-dependencies HTTP/1.1\" 200 -\n",
      "127.0.0.1 - - [17/Jun/2022 17:41:51] \"GET /_dash-component-suites/dash_core_components/async-dropdown.js HTTP/1.1\" 200 -\n",
      "127.0.0.1 - - [17/Jun/2022 17:41:51] \"GET /_dash-component-suites/dash_core_components/async-graph.js HTTP/1.1\" 200 -\n",
      "127.0.0.1 - - [17/Jun/2022 17:41:51] \"POST /_dash-update-component HTTP/1.1\" 200 -\n",
      "127.0.0.1 - - [17/Jun/2022 17:41:51] \"GET /_dash-component-suites/dash_table/async-highlight.js HTTP/1.1\" 200 -\n",
      "127.0.0.1 - - [17/Jun/2022 17:41:51] \"GET /_dash-component-suites/dash_table/async-table.js HTTP/1.1\" 200 -\n",
      "127.0.0.1 - - [17/Jun/2022 17:41:51] \"GET /_dash-component-suites/dash_core_components/async-plotlyjs.js HTTP/1.1\" 200 -\n",
      "127.0.0.1 - - [17/Jun/2022 17:41:51] \"POST /_dash-update-component HTTP/1.1\" 200 -\n",
      "127.0.0.1 - - [17/Jun/2022 17:41:51] \"POST /_dash-update-component HTTP/1.1\" 200 -\n",
      "127.0.0.1 - - [17/Jun/2022 17:41:51] \"POST /_dash-update-component HTTP/1.1\" 200 -\n",
      "127.0.0.1 - - [17/Jun/2022 17:41:53] \"\u001b[36mGET /assets/house_icon.png HTTP/1.1\u001b[0m\" 304 -\n",
      "127.0.0.1 - - [17/Jun/2022 17:41:53] \"\u001b[36mGET /assets/car_icon.png HTTP/1.1\u001b[0m\" 304 -\n",
      "127.0.0.1 - - [17/Jun/2022 17:41:53] \"\u001b[36mGET /assets/tv_icon.png HTTP/1.1\u001b[0m\" 304 -\n",
      "127.0.0.1 - - [17/Jun/2022 17:41:53] \"POST /_dash-update-component HTTP/1.1\" 200 -\n",
      "127.0.0.1 - - [17/Jun/2022 17:41:53] \"POST /_dash-update-component HTTP/1.1\" 200 -\n",
      "127.0.0.1 - - [17/Jun/2022 17:41:53] \"POST /_dash-update-component HTTP/1.1\" 200 -\n",
      "127.0.0.1 - - [17/Jun/2022 17:41:53] \"POST /_dash-update-component HTTP/1.1\" 200 -\n",
      "127.0.0.1 - - [17/Jun/2022 17:41:53] \"POST /_dash-update-component HTTP/1.1\" 200 -\n",
      "^C\n"
     ]
    }
   ],
   "source": [
    "! python /home/nikhil/projects/green_comp_neuro/codecarbon/codecarbon/viz/carbonboard.py $custom_emissions_csv"
   ]
  },
  {
   "cell_type": "code",
   "execution_count": null,
   "metadata": {},
   "outputs": [],
   "source": []
  }
 ],
 "metadata": {
  "interpreter": {
   "hash": "999c495fe9dc36b558f9181c52eb411f8d79bcfd8fb93141da57ede7d0ce5d9c"
  },
  "kernelspec": {
   "display_name": "Python 3.7.0 ('green_compute')",
   "language": "python",
   "name": "python3"
  },
  "language_info": {
   "codemirror_mode": {
    "name": "ipython",
    "version": 3
   },
   "file_extension": ".py",
   "mimetype": "text/x-python",
   "name": "python",
   "nbconvert_exporter": "python",
   "pygments_lexer": "ipython3",
   "version": "3.7.0"
  },
  "orig_nbformat": 4
 },
 "nbformat": 4,
 "nbformat_minor": 2
}
